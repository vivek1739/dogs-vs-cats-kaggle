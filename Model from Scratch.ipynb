{
 "cells": [
  {
   "cell_type": "markdown",
   "metadata": {
    "collapsed": true
   },
   "source": [
    "### Data\n",
    "- we took 800 cat and 800 dog images in train\n",
    "    - train set : 1600 images\n",
    "- 200 cats and 200 dog images in testset\n",
    "    - test set : 400 images"
   ]
  },
  {
   "cell_type": "code",
   "execution_count": null,
   "metadata": {},
   "outputs": [],
   "source": [
    "\"\"\"\n",
    "data/\n",
    "    train/\n",
    "        dogs/\n",
    "            dog001.jpg\n",
    "            ...\n",
    "        cats/\n",
    "            cats001.jpg \n",
    "            ...\n",
    "    validation/\n",
    "        dogs/\n",
    "            dog800.jpg\n",
    "            ...\n",
    "        cats/\n",
    "            cat800.jpg\n",
    "            ...\n",
    "\n",
    "\"\"\""
   ]
  },
  {
   "cell_type": "code",
   "execution_count": 2,
   "metadata": {
    "collapsed": true
   },
   "outputs": [],
   "source": [
    "from keras.preprocessing.image import ImageDataGenerator\n",
    "from keras.models import Sequential\n",
    "from keras.layers import Conv2D, MaxPooling2D\n",
    "from keras.layers import Activation, Dropout, Flatten, Dense\n",
    "from keras import backend as K"
   ]
  },
  {
   "cell_type": "code",
   "execution_count": 4,
   "metadata": {
    "collapsed": true
   },
   "outputs": [],
   "source": [
    "# dimensions of our image\n",
    "img_width, img_height = 150,150\n",
    "\n",
    "train_data_dir=\"data/train\"\n",
    "validation_data_dir=\"data/validation\"\n",
    "\n",
    "nb_train_samples = 1600\n",
    "nb_validation_samples = 400\n",
    "\n",
    "epochs = 50\n",
    "batch_size = 16"
   ]
  },
  {
   "cell_type": "code",
   "execution_count": 5,
   "metadata": {},
   "outputs": [
    {
     "data": {
      "text/plain": [
       "'channels_last'"
      ]
     },
     "execution_count": 5,
     "metadata": {},
     "output_type": "execute_result"
    }
   ],
   "source": [
    "K.image_data_format()"
   ]
  },
  {
   "cell_type": "code",
   "execution_count": 6,
   "metadata": {
    "collapsed": true
   },
   "outputs": [],
   "source": [
    "# get input shape based on image data format in keras\n",
    "if K.image_data_format() == 'channels_first':\n",
    "    input_shape = (3,img_width,img_height)\n",
    "else:\n",
    "    input_shape = (img_width,img_height,3)"
   ]
  },
  {
   "cell_type": "markdown",
   "metadata": {},
   "source": [
    "### Creating the model\n",
    "- this is our model 1\n",
    "- here we are training a small convnet from scratch"
   ]
  },
  {
   "cell_type": "code",
   "execution_count": 8,
   "metadata": {},
   "outputs": [],
   "source": [
    "model = Sequential()\n",
    "model.add(Conv2D(32, kernel_size=(3,3), activation='relu',input_shape=input_shape))\n",
    "model.add(MaxPooling2D(pool_size=(2,2)))\n",
    "\n",
    "model.add(Conv2D(32,activation='relu' ,kernel_size=(3,3)))\n",
    "model.add(MaxPooling2D(pool_size=(2,2)))\n",
    "\n",
    "model.add(Conv2D(64,activation='relu' ,kernel_size=(3,3)))\n",
    "model.add(MaxPooling2D(pool_size=(2,2)))\n",
    "\n",
    "model.add(Flatten())\n",
    "model.add(Dense(64, activation='relu'))\n",
    "model.add(Dropout(0.5))\n",
    "model.add(Dense(1,activation='sigmoid'))"
   ]
  },
  {
   "cell_type": "code",
   "execution_count": 10,
   "metadata": {
    "collapsed": true
   },
   "outputs": [],
   "source": [
    "model.compile(loss=keras.losses.binary_crossentropy, \n",
    "             optimizer=keras.optimizers.Adam(),\n",
    "             metrics=['accuracy'])"
   ]
  },
  {
   "cell_type": "markdown",
   "metadata": {},
   "source": [
    "- Our model is ready\n",
    "- now we will look at Image Augmentation\n"
   ]
  },
  {
   "cell_type": "code",
   "execution_count": 11,
   "metadata": {
    "collapsed": true
   },
   "outputs": [],
   "source": [
    "# augmentation configuration for training\n",
    "train_datagen = ImageDataGenerator(\n",
    "    rescale = 1./255,\n",
    "    shear_range=0.2,\n",
    "    zoom_range=0.2,\n",
    "    horizontal_flip=True\n",
    "    )\n",
    "\n",
    "test_datagen = ImageDataGenerator( rescale=1./255)"
   ]
  },
  {
   "cell_type": "code",
   "execution_count": 12,
   "metadata": {},
   "outputs": [
    {
     "name": "stdout",
     "output_type": "stream",
     "text": [
      "Found 1600 images belonging to 2 classes.\n"
     ]
    }
   ],
   "source": [
    "train_generator = train_datagen.flow_from_directory(train_data_dir,\n",
    "                                                    target_size=(img_width,img_height),\n",
    "                                                    batch_size=batch_size,\n",
    "                                                    class_mode='binary'\n",
    "                                                   )"
   ]
  },
  {
   "cell_type": "code",
   "execution_count": 13,
   "metadata": {},
   "outputs": [
    {
     "name": "stdout",
     "output_type": "stream",
     "text": [
      "Found 400 images belonging to 2 classes.\n"
     ]
    }
   ],
   "source": [
    "validation_generator = test_datagen.flow_from_directory(validation_data_dir,\n",
    "                                                    target_size=(img_width,img_height),\n",
    "                                                    batch_size=batch_size,\n",
    "                                                    class_mode='binary'\n",
    "                                                   )"
   ]
  },
  {
   "cell_type": "code",
   "execution_count": 15,
   "metadata": {},
   "outputs": [
    {
     "name": "stdout",
     "output_type": "stream",
     "text": [
      "Epoch 1/5\n",
      "100/100 [==============================] - 69s 690ms/step - loss: 0.2152 - acc: 0.9038 - val_loss: 0.6926 - val_acc: 0.7625\n",
      "Epoch 2/5\n",
      "100/100 [==============================] - 71s 714ms/step - loss: 0.2191 - acc: 0.9087 - val_loss: 0.7199 - val_acc: 0.7675\n",
      "Epoch 3/5\n",
      "100/100 [==============================] - 73s 735ms/step - loss: 0.2246 - acc: 0.9094 - val_loss: 0.6673 - val_acc: 0.7775\n",
      "Epoch 4/5\n",
      "100/100 [==============================] - 71s 707ms/step - loss: 0.2150 - acc: 0.9087 - val_loss: 0.6755 - val_acc: 0.7625\n",
      "Epoch 5/5\n",
      "100/100 [==============================] - 65s 648ms/step - loss: 0.2085 - acc: 0.9031 - val_loss: 0.8000 - val_acc: 0.7525\n"
     ]
    }
   ],
   "source": [
    "# we will use fit generator method\n",
    "# Trains the model on data generated batch-by-batch by a Python generator\n",
    "history = model.fit_generator(train_generator, steps_per_epoch= nb_train_samples// batch_size,\n",
    "                    epochs=5,\n",
    "                    validation_data = validation_generator,\n",
    "                    validation_steps = nb_validation_samples//batch_size\n",
    "                   )\n",
    "\n",
    "model.save_weights('scratch_model.h5')"
   ]
  },
  {
   "cell_type": "code",
   "execution_count": 16,
   "metadata": {},
   "outputs": [
    {
     "data": {
      "text/plain": [
       "dict_keys(['val_loss', 'val_acc', 'loss', 'acc'])"
      ]
     },
     "execution_count": 16,
     "metadata": {},
     "output_type": "execute_result"
    }
   ],
   "source": [
    "history.history.keys()"
   ]
  },
  {
   "cell_type": "code",
   "execution_count": 19,
   "metadata": {},
   "outputs": [
    {
     "data": {
      "image/png": "[encoded data removed]",
      "text/plain": [
       "<matplotlib.figure.Figure at 0x17cbcb4add8>"
      ]
     },
     "metadata": {},
     "output_type": "display_data"
    }
   ],
   "source": [
    "epochs_list = list(range(1,6))\n",
    "import matplotlib.pyplot as plt\n",
    "train_acc = history.history['acc']\n",
    "train_loss = history.history['loss']\n",
    "cv_acc = history.history['val_acc']\n",
    "cv_loss = history.history['val_loss']\n",
    "\n",
    "plt.figure(figsize=(5,3))\n",
    "plt.plot(epochs_list,cv_loss,label=\"cv loss\")\n",
    "plt.plot(epochs_list,train_loss,label=\"train loss\")\n",
    "plt.xlabel(\" Epochs \")\n",
    "plt.ylabel(\" Loss \")\n",
    "plt.legend()\n",
    "plt.title(\" 5x5 Simple model : Loss vs epochs\")\n",
    "plt.show()"
   ]
  },
  {
   "cell_type": "code",
   "execution_count": null,
   "metadata": {
    "collapsed": true
   },
   "outputs": [],
   "source": []
  }
 ],
 "metadata": {
  "kernelspec": {
   "display_name": "Python 3",
   "language": "python",
   "name": "python3"
  },
  "language_info": {
   "codemirror_mode": {
    "name": "ipython",
    "version": 3
   },
   "file_extension": ".py",
   "mimetype": "text/x-python",
   "name": "python",
   "nbconvert_exporter": "python",
   "pygments_lexer": "ipython3",
   "version": "3.6.1"
  }
 },
 "nbformat": 4,
 "nbformat_minor": 2
}
